{
 "cells": [
  {
   "cell_type": "code",
   "execution_count": 5,
   "metadata": {},
   "outputs": [
    {
     "name": "stdout",
     "output_type": "stream",
     "text": [
      "\n",
      "Job Role Details:\n",
      "Trending Insights: SIEM, Threat Analysis, Splunk\n",
      "Average Salary (INR): 1200000\n",
      "How many job filled last year: 2700\n",
      "Job filled in current year till December: 2500\n",
      "How many employees removed last year: 50\n",
      "Role Sustainability: 9+ years\n",
      "Trending Status: Trending\n",
      "LinkedIn URL: https://www.linkedin.com/jobs/search/?keywords=Cybersecurity%20Analyst&location=India\n"
     ]
    }
   ],
   "source": [
    "import pandas as pd\n",
    "\n",
    "# Load and prepare the dataset\n",
    "def train_model(dataset_path):\n",
    "    \"\"\"Simulates training by loading the dataset and indexing it.\"\"\"\n",
    "    df = pd.read_csv(dataset_path)\n",
    "    df.set_index(\"Role\", inplace=True)  # Use 'Role' as the index for fast lookup\n",
    "    return df\n",
    "\n",
    "def fetch_job_details(model, role):\n",
    "    \"\"\"Fetch job details and generate LinkedIn URL.\"\"\"\n",
    "    if role not in model.index:\n",
    "        return f\"Role '{role}' not found in the dataset.\"\n",
    "\n",
    "    # Get row for the specified role\n",
    "    job_details = model.loc[role].to_dict()\n",
    "\n",
    "    # Generate LinkedIn job link\n",
    "    linkedin_url = f\"https://www.linkedin.com/jobs/search/?keywords={role.replace(' ', '%20')}&location=India\"\n",
    "    job_details[\"LinkedIn URL\"] = linkedin_url\n",
    "\n",
    "    return job_details\n",
    "\n",
    "# Main function for demonstration\n",
    "if __name__ == \"__main__\":\n",
    "    dataset_path = r'F:\\Projects\\CareerGuidance-main\\career_recommendation\\dataset.csv'  # Replace with the path to your dataset\n",
    "    role = input(\"Enter the job role you are looking for: \").strip()\n",
    "\n",
    "    # Train the \"model\"\n",
    "    trained_model = train_model(dataset_path)\n",
    "\n",
    "    # Fetch and display details for the requested role\n",
    "    job_info = fetch_job_details(trained_model, role)\n",
    "    if isinstance(job_info, str):\n",
    "        print(job_info)\n",
    "    else:\n",
    "        print(\"\\nJob Role Details:\")\n",
    "        for key, value in job_info.items():\n",
    "            print(f\"{key}: {value}\")\n"
   ]
  },
  {
   "cell_type": "code",
   "execution_count": 6,
   "metadata": {},
   "outputs": [],
   "source": [
    "def save_model_as_csv(model, file_path):\n",
    "    \"\"\"Save the trained model (DataFrame) to a CSV file.\"\"\"\n",
    "    model.to_csv(file_path)\n",
    "\n",
    "# Example usage\n",
    "csv_file_path = 'trained_model.csv'  # Specify the file path where you want to save the model\n",
    "save_model_as_csv(trained_model, csv_file_path)\n"
   ]
  }
 ],
 "metadata": {
  "kernelspec": {
   "display_name": "Python 3",
   "language": "python",
   "name": "python3"
  },
  "language_info": {
   "codemirror_mode": {
    "name": "ipython",
    "version": 3
   },
   "file_extension": ".py",
   "mimetype": "text/x-python",
   "name": "python",
   "nbconvert_exporter": "python",
   "pygments_lexer": "ipython3",
   "version": "3.12.4"
  }
 },
 "nbformat": 4,
 "nbformat_minor": 2
}
