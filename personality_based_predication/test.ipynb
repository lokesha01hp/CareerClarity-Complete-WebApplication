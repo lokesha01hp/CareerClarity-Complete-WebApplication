{
 "cells": [
  {
   "cell_type": "code",
   "execution_count": 11,
   "metadata": {},
   "outputs": [
    {
     "name": "stdout",
     "output_type": "stream",
     "text": [
      "Dataset generated successfully!\n"
     ]
    }
   ],
   "source": [
    "import pandas as pd\n",
    "import random\n",
    "\n",
    "# Define possible responses for each question\n",
    "responses = {\n",
    "    \"Q1\": [\"I enjoy meeting new people.\", \"I prefer quiet, solitary activities.\", \"I enjoy meeting people occasionally.\"],\n",
    "    \"Q2\": [\"I like to focus on facts and details.\", \"I enjoy thinking about abstract ideas.\", \"I mix abstract and detailed thinking.\"],\n",
    "    \"Q3\": [\"I make decisions based on logic and facts.\", \"I consider emotions and values when deciding.\", \"I balance logic and emotions.\"],\n",
    "    \"Q4\": [\"I prefer to plan and organize tasks.\", \"I like to keep things flexible and open-ended.\", \"I balance planning and flexibility.\"],\n",
    "    \"Q5\": [\"I often think about possibilities and future plans.\", \"I focus on the present moment and practical solutions.\", \"I think about both future and present.\"],\n",
    "    \"Q6\": [\"I stay calm and focus on solutions.\", \"I feel anxious but adapt.\", \"I stay calm and reflective.\"],\n",
    "    \"Q7\": [\"I thrive in structured and predictable settings.\", \"I enjoy creative and flexible environments.\", \"I like a balance of structure and flexibility.\"],\n",
    "    \"Q8\": [\"I prefer multitasking.\", \"I focus on one task at a time.\", \"I can do both depending on the situation.\"],\n",
    "    \"Q9\": [\"I enjoy working independently.\", \"I thrive in collaborative teams.\", \"I balance independent and team work.\"],\n",
    "    \"Q10\": [\"I work best under pressure.\", \"I prefer completing tasks early.\", \"I adapt to deadlines as needed.\"],\n",
    "    \"Q11\": [\"I enjoy learning new skills regularly.\", \"I prefer mastering a specific skill.\", \"I balance mastering and learning new skills.\"],\n",
    "    \"Q12\": [\"I enjoy coming up with innovative solutions.\", \"I prefer following proven methods.\", \"I mix innovation with practicality.\"],\n",
    "    \"Q13\": [\"I appreciate feedback to improve myself.\", \"I feel defensive but reflect on feedback.\", \"I accept and act on feedback constructively.\"],\n",
    "    \"Q14\": [\"I lead discussions and brainstorming sessions.\", \"I participate actively but don’t lead.\", \"I mix leading and participating.\"],\n",
    "    \"Q15\": [\"I like structured job environments.\", \"I thrive in dynamic and unpredictable environments.\", \"I like balanced environments.\"]\n",
    "}\n",
    "\n",
    "# Define personality type rules\n",
    "def determine_personality(answers):\n",
    "    introvert_count = sum(\"quiet\" in ans or \"independent\" in ans for ans in answers)\n",
    "    extrovert_count = sum(\"enjoy\" in ans or \"collaborative\" in ans for ans in answers)\n",
    "    if introvert_count > extrovert_count:\n",
    "        return \"Introvert\"\n",
    "    elif extrovert_count > introvert_count:\n",
    "        return \"Extrovert\"\n",
    "    else:\n",
    "        return \"Mix\"\n",
    "\n",
    "# Define career predictions based on personality\n",
    "def predict_career(personality):\n",
    "    careers = {\n",
    "        \"Introvert\": [\"Research Analyst\", \"Data Scientist\", \"Content Writer\"],\n",
    "        \"Extrovert\": [\"Project Manager\", \"Sales Executive\", \"Marketing Specialist\"],\n",
    "        \"Mix\": [\"Product Designer\", \"Consultant\", \"Entrepreneur\"]\n",
    "    }\n",
    "    return random.choice(careers[personality])\n",
    "\n",
    "# Generate the dataset\n",
    "data = []\n",
    "for _ in range(2000):\n",
    "    answers = [random.choice(responses[q]) for q in responses]\n",
    "    personality = determine_personality(answers)\n",
    "    career = predict_career(personality)\n",
    "    data.append(answers + [personality, career])\n",
    "\n",
    "# Create a DataFrame\n",
    "columns = list(responses.keys()) + [\"Personality Type\", \"Predicted Career\"]\n",
    "df = pd.DataFrame(data, columns=columns)\n",
    "\n",
    "# Save to CSV\n",
    "df.to_csv(\"personality_job_dataset.csv\", index=False)\n",
    "print(\"Dataset generated successfully!\")"
   ]
  },
  {
   "cell_type": "code",
   "execution_count": 12,
   "metadata": {},
   "outputs": [
    {
     "name": "stdout",
     "output_type": "stream",
     "text": [
      "Index(['Q1', 'Q2', 'Q3', 'Q4', 'Q5', 'Q6', 'Q7', 'Q8', 'Q9', 'Q10', 'Q11',\n",
      "       'Q12', 'Q13', 'Q14', 'Q15', 'Personality Type', 'Predicted Career'],\n",
      "      dtype='object')\n"
     ]
    }
   ],
   "source": [
    "print(df.columns)\n",
    "\n"
   ]
  },
  {
   "cell_type": "code",
   "execution_count": 13,
   "metadata": {},
   "outputs": [
    {
     "name": "stdout",
     "output_type": "stream",
     "text": [
      "Model and vectorizer saved successfully!\n"
     ]
    }
   ],
   "source": [
    "import joblib\n",
    "from sklearn.feature_extraction.text import CountVectorizer\n",
    "from sklearn.ensemble import RandomForestClassifier\n",
    "from sklearn.model_selection import train_test_split\n",
    "import pandas as pd\n",
    "\n",
    "# Assuming 'df' is your DataFrame and it contains answers as text\n",
    "# Prepare your feature columns (text answers)\n",
    "text_columns = ['Q1', 'Q2', 'Q3', 'Q4', 'Q5', 'Q6', 'Q7', 'Q8', 'Q9', 'Q10', 'Q11',\n",
    "       'Q12', 'Q13', 'Q14', 'Q15', 'Personality Type', 'Predicted Career']\n",
    "\n",
    "# Assuming df is your DataFrame and it contains columns like 'Q1', 'Q2', ..., 'Q15'\n",
    "\n",
    "# Create a new column that combines all answers into one text column\n",
    "df['All_answers'] = df[text_columns].apply(lambda x: ' '.join(x.astype(str)), axis=1)\n",
    "\n",
    "# Vectorize the answers using CountVectorizer\n",
    "vectorizer = CountVectorizer()\n",
    "X = vectorizer.fit_transform(df['All_answers'])\n",
    "\n",
    "# Define your target variable (e.g., career prediction column)\n",
    "y = df['Predicted Career']\n",
    "\n",
    "# Split data into train and test sets\n",
    "from sklearn.model_selection import train_test_split\n",
    "X_train, X_test, y_train, y_test = train_test_split(X, y, test_size=0.2, random_state=42)\n",
    "\n",
    "# Train the RandomForestClassifier model\n",
    "from sklearn.ensemble import RandomForestClassifier\n",
    "model = RandomForestClassifier(n_estimators=100, random_state=42)\n",
    "model.fit(X_train, y_train)\n",
    "\n",
    "# Save the model and vectorizer to disk\n",
    "import joblib\n",
    "joblib.dump(model, 'career_prediction_model.pkl')\n",
    "joblib.dump(vectorizer, 'vectorizer.pkl')  # Save the vectorizer as well\n",
    "print(\"Model and vectorizer saved successfully!\")\n"
   ]
  },
  {
   "cell_type": "code",
   "execution_count": 14,
   "metadata": {},
   "outputs": [
    {
     "name": "stdout",
     "output_type": "stream",
     "text": [
      "The predicted career for the provided answers is: Consultant\n"
     ]
    }
   ],
   "source": [
    "import joblib\n",
    "import pandas as pd\n",
    "\n",
    "# Load the trained model and vectorizer\n",
    "model = joblib.load('career_prediction_model.pkl')\n",
    "vectorizer = joblib.load('vectorizer.pkl')  # Load the vectorizer\n",
    "\n",
    "# Function to preprocess user input and make prediction\n",
    "def predict_career(user_answers):\n",
    "    # Create a DataFrame for the user answers (assuming 15 answers)\n",
    "    user_data = pd.DataFrame([user_answers], columns=['Q1', 'Q2', 'Q3', 'Q4', 'Q5', 'Q6', 'Q7', 'Q8', 'Q9', 'Q10', 'Q11', 'Q12', 'Q13', 'Q14', 'Q15'])\n",
    "    \n",
    "    # Combine the answers into one column for vectorization\n",
    "    user_data['All_answers'] = user_data.apply(lambda x: ' '.join(x), axis=1)\n",
    "\n",
    "    # Vectorize the answers using the same vectorizer used during training\n",
    "    X_user = vectorizer.transform(user_data['All_answers'])\n",
    "\n",
    "    # Predict the career using the trained model\n",
    "    predicted_career = model.predict(X_user)\n",
    "    \n",
    "    return predicted_career[0]\n",
    "\n",
    "# Example usage: user input answers (replace these with real user input)\n",
    "user_answers = [\n",
    "    \"I prefer working with others and collaborating.\",  # Q1\n",
    "    \"I enjoy solving problems independently.\",          # Q2\n",
    "    \"I find myself getting easily stressed in group settings.\",  # Q3\n",
    "    \"I enjoy leading teams and making decisions.\",      # Q4\n",
    "    \"I prefer structured tasks with clear instructions.\",  # Q5\n",
    "    \"I like creative, open-ended projects.\",           # Q6\n",
    "    \"I find comfort in routine and stability.\",        # Q7\n",
    "    \"I thrive in dynamic environments with changing tasks.\",  # Q8\n",
    "    \"I enjoy helping others and providing support.\",   # Q9\n",
    "    \"I prefer to listen before speaking.\",             # Q10\n",
    "    \"I value personal growth and learning.\",           # Q11\n",
    "    \"I enjoy exploring new ideas and concepts.\",       # Q12\n",
    "    \"I feel energized after spending time alone.\",      # Q13\n",
    "    \"I enjoy making quick decisions in uncertain situations.\",  # Q14\n",
    "    \"I like planning and organizing tasks in advance.\"  # Q15\n",
    "]\n",
    "\n",
    "# Get the predicted career\n",
    "predicted_career = predict_career(user_answers)\n",
    "\n",
    "# Output the result\n",
    "print(f\"The predicted career for the provided answers is: {predicted_career}\")\n"
   ]
  }
 ],
 "metadata": {
  "kernelspec": {
   "display_name": "Python 3",
   "language": "python",
   "name": "python3"
  },
  "language_info": {
   "codemirror_mode": {
    "name": "ipython",
    "version": 3
   },
   "file_extension": ".py",
   "mimetype": "text/x-python",
   "name": "python",
   "nbconvert_exporter": "python",
   "pygments_lexer": "ipython3",
   "version": "3.12.6"
  }
 },
 "nbformat": 4,
 "nbformat_minor": 2
}
