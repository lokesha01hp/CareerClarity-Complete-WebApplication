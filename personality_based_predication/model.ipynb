{
 "cells": [
  {
   "cell_type": "code",
   "execution_count": 1,
   "metadata": {},
   "outputs": [],
   "source": [
    "import pandas as pd\n",
    "from sklearn.feature_extraction.text import TfidfVectorizer\n",
    "from sklearn.preprocessing import LabelEncoder\n",
    "from sklearn.metrics.pairwise import cosine_similarity\n",
    "import numpy as np\n",
    "\n",
    "# Load your dataset\n",
    "df = pd.read_csv('personality_job_dataset.csv')\n",
    "\n",
    "# TF-IDF vectorizer for question responses\n",
    "vectorizer = TfidfVectorizer()\n",
    "X = vectorizer.fit_transform(df.iloc[:, 0:15].values.flatten())\n",
    "\n",
    "# Label encoding for Career\n",
    "career_encoder = LabelEncoder()\n",
    "y = career_encoder.fit_transform(df['Predicted Career'])\n",
    "\n",
    "# Calculate pairwise cosine similarities\n",
    "similarity_matrix = cosine_similarity(X)\n"
   ]
  },
  {
   "cell_type": "code",
   "execution_count": 11,
   "metadata": {},
   "outputs": [
    {
     "name": "stdout",
     "output_type": "stream",
     "text": [
      "['Consultant']\n"
     ]
    }
   ],
   "source": [
    "def predict_career(user_responses):\n",
    "    # Vectorize user responses (pass the responses directly, not as a list of lists)\n",
    "    user_vector = vectorizer.transform(user_responses)  # Fix here, no need for extra list around user_responses\n",
    "    \n",
    "    # Compute cosine similarity with the dataset\n",
    "    similarity_scores = cosine_similarity(user_vector, X)\n",
    "    \n",
    "    # Find the most similar career\n",
    "    best_match_idx = np.argmax(similarity_scores)\n",
    "    predicted_career = career_encoder.inverse_transform([best_match_idx])\n",
    "    \n",
    "    return predicted_career\n",
    "\n",
    "# Example user responses\n",
    "user_responses = [\n",
    "    \"I enjoy meeting people occasionally.\",         # How do you prefer social interactions?\n",
    "    \"I mix abstract and detailed thinking.\",       # How do you process information?\n",
    "    \"I balance logic and emotions.\",              # How do you make decisions?\n",
    "    \"I balance planning and flexibility.\",        # How do you organize your life?\n",
    "    \"I often think about possibilities and future plans.\",  # How do you approach creativity and ideas?\n",
    "    \"I stay calm and focus on solutions.\",        # How do you handle stress?\n",
    "    \"I like a balance of structure and flexibility.\", # Do you prefer routine or change?\n",
    "    \"I can do both depending on the situation.\",   # How do you deal with conflict?\n",
    "    \"I enjoy working independently.\",              # How do you prioritize tasks?\n",
    "    \"I work best under pressure.\",                # How do you handle change?\n",
    "    \"I enjoy learning new skills regularly.\",     # How do you approach problems?\n",
    "    \"I mix innovation with practicality.\",         # How do you respond to feedback?\n",
    "    \"I feel defensive but reflect on feedback.\",  # How do you approach learning?\n",
    "    \"I participate actively but don’t lead.\",     # How do you work under pressure?\n",
    "    \"I like balanced environments.\"               # How do you manage your time?\n",
    "]\n",
    "\n",
    "# Predict the career\n",
    "predicted_career = predict_career(user_responses)\n",
    "print(predicted_career)\n"
   ]
  },
  {
   "cell_type": "code",
   "execution_count": null,
   "metadata": {},
   "outputs": [
    {
     "name": "stdout",
     "output_type": "stream",
     "text": [
      "Predicted Career: Consultant\n",
      "Confidence Score: 1.0000000000000002\n"
     ]
    }
   ],
   "source": [
    "import numpy as np\n",
    "from sklearn.metrics.pairwise import cosine_similarity\n",
    "\n",
    "def predict_career(user_responses, vectorizer, X, career_encoder):\n",
    "    # Vectorize user responses (pass the responses directly, not as a list of lists)\n",
    "    user_vector = vectorizer.transform(user_responses)\n",
    "    \n",
    "    # Compute cosine similarity with dataset\n",
    "    similarity_scores = cosine_similarity(user_vector, X)\n",
    "    \n",
    "    # Get the index of the most similar career (highest similarity score)\n",
    "    best_match_idx = np.argmax(similarity_scores)\n",
    "    \n",
    "    # Get the predicted career label\n",
    "    predicted_career = career_encoder.inverse_transform([best_match_idx])\n",
    "    \n",
    "    # Confidence score is the maximum similarity score\n",
    "    confidence_score = similarity_scores[0][best_match_idx]  # The first element, since we're comparing one user input\n",
    "    \n",
    "    return predicted_career[0], confidence_score\n",
    "\n",
    "# Example user responses for testing\n",
    "user_responses_1 = [\n",
    "    \"I enjoy meeting people occasionally.\",         # How do you prefer social interactions?\n",
    "    \"I mix abstract and detailed thinking.\",       # How do you process information?\n",
    "    \"I consider emotions and values when deciding.\",  # How do you make decisions?\n",
    "    \"I prefer to plan and organize tasks.\",        # How do you organize your life?\n",
    "    \"I often think about possibilities and future plans.\",  # How do you approach creativity and ideas?\n",
    "    \"I stay calm and reflective.\",                # How do you handle stress?\n",
    "    \"I enjoy creative and flexible environments.\",  # Do you prefer routine or change?\n",
    "    \"I can do both depending on the situation.\",   # How do you deal with conflict?\n",
    "    \"I thrive in collaborative teams.\",            # How do you prioritize tasks?\n",
    "    \"I prefer completing tasks early.\",           # How do you handle change?\n",
    "    \"I prefer mastering a specific skill.\",       # How do you approach problems?\n",
    "    \"I prefer following proven methods.\",         # How do you respond to feedback?\n",
    "    \"I accept and act on feedback constructively.\",  # How do you approach learning?\n",
    "    \"I mix leading and participating.\",           # How do you work under pressure?\n",
    "    \"I like structured job environments.\"         # How do you manage your time?\n",
    "]\n",
    "\n",
    "predicted_career_1, confidence_score_1 = predict_career(user_responses_1, vectorizer, X, career_encoder)\n",
    "\n",
    "print(f\"Predicted Career: {predicted_career_1}\")\n",
    "print(f\"Confidence Score: {confidence_score_1}\")\n"
   ]
  },
  {
   "cell_type": "code",
   "execution_count": null,
   "metadata": {},
   "outputs": [],
   "source": []
  }
 ],
 "metadata": {
  "kernelspec": {
   "display_name": "Python 3",
   "language": "python",
   "name": "python3"
  },
  "language_info": {
   "codemirror_mode": {
    "name": "ipython",
    "version": 3
   },
   "file_extension": ".py",
   "mimetype": "text/x-python",
   "name": "python",
   "nbconvert_exporter": "python",
   "pygments_lexer": "ipython3",
   "version": "3.12.7"
  }
 },
 "nbformat": 4,
 "nbformat_minor": 2
}
